{
 "cells": [
  {
   "cell_type": "markdown",
   "id": "1ef1586c-d7e8-485d-9de2-61c276a72fa4",
   "metadata": {},
   "source": [
    "LIST ASSIGNMENT"
   ]
  },
  {
   "cell_type": "markdown",
   "id": "aeb22447-741d-49b7-bfb9-1fcdcc2d5d4a",
   "metadata": {},
   "source": [
    "ASSIGNMENT QUESTION"
   ]
  },
  {
   "cell_type": "code",
   "execution_count": 1,
   "id": "2c146d2e-ec64-4a52-a878-f5338c00095f",
   "metadata": {
    "tags": []
   },
   "outputs": [],
   "source": [
    "#QUESTION 1"
   ]
  },
  {
   "cell_type": "code",
   "execution_count": 2,
   "id": "179645b9-972e-4ab5-9496-9972995517fc",
   "metadata": {
    "tags": []
   },
   "outputs": [],
   "source": [
    "#CREATE AN EMPTY LIST."
   ]
  },
  {
   "cell_type": "code",
   "execution_count": 26,
   "id": "cc4fdada-18a2-497c-b8ca-031f8fd1e111",
   "metadata": {
    "tags": []
   },
   "outputs": [
    {
     "name": "stdout",
     "output_type": "stream",
     "text": [
      "Here is your empty list: []\n"
     ]
    }
   ],
   "source": [
    "my_list = []\n",
    "print(\"Here is your empty list:\",my_list)"
   ]
  },
  {
   "cell_type": "code",
   "execution_count": null,
   "id": "7c55af9b-8681-453f-a877-81f8d9d1d6c3",
   "metadata": {},
   "outputs": [],
   "source": []
  },
  {
   "cell_type": "code",
   "execution_count": null,
   "id": "c1d2854e-657b-4977-8819-3acbcc772433",
   "metadata": {},
   "outputs": [],
   "source": []
  },
  {
   "cell_type": "code",
   "execution_count": 3,
   "id": "f51d1830-80a8-49a1-8b9c-0cc49e823c17",
   "metadata": {
    "tags": []
   },
   "outputs": [],
   "source": [
    "#QUESTION 2"
   ]
  },
  {
   "cell_type": "code",
   "execution_count": 4,
   "id": "598e84a8-2c23-43d2-9ce5-9640c63f0c77",
   "metadata": {
    "tags": []
   },
   "outputs": [],
   "source": [
    "#CREATE A LIST AND ADD AN ELEMENT TO THE END OF THIS LIST."
   ]
  },
  {
   "cell_type": "code",
   "execution_count": 27,
   "id": "6cd687d8-c59b-4959-ad7c-3ce494084c25",
   "metadata": {
    "tags": []
   },
   "outputs": [
    {
     "name": "stdout",
     "output_type": "stream",
     "text": [
      "Here is the list with the added element: ['apple']\n"
     ]
    }
   ],
   "source": [
    "my_list =[]\n",
    "my_list.append(\"apple\")\n",
    "print(\"Here is the list with the added element:\",my_list)"
   ]
  },
  {
   "cell_type": "code",
   "execution_count": null,
   "id": "71193739-acdd-4675-975b-84ba354ffa5d",
   "metadata": {},
   "outputs": [],
   "source": []
  },
  {
   "cell_type": "code",
   "execution_count": null,
   "id": "6446aabb-ba31-44fd-af7a-e43493ed9055",
   "metadata": {},
   "outputs": [],
   "source": []
  },
  {
   "cell_type": "code",
   "execution_count": 5,
   "id": "37098ceb-c56b-471a-aea7-2068690b8f53",
   "metadata": {
    "tags": []
   },
   "outputs": [],
   "source": [
    "#QUESTION 3"
   ]
  },
  {
   "cell_type": "code",
   "execution_count": 6,
   "id": "092be55d-4a14-49c3-86cf-88a40a032236",
   "metadata": {
    "tags": []
   },
   "outputs": [],
   "source": [
    "#FOR THE ABOVE CREATED LIST PRINT THE LAST ELEMENT."
   ]
  },
  {
   "cell_type": "code",
   "execution_count": 28,
   "id": "46b64948-78c8-4c2d-9fe4-b408f390b8fc",
   "metadata": {
    "tags": []
   },
   "outputs": [
    {
     "name": "stdout",
     "output_type": "stream",
     "text": [
      "The last element of the list is: apple\n"
     ]
    }
   ],
   "source": [
    "my_list = [\"apple\"]\n",
    "print(\"The last element of the list is:\",my_list[-1])"
   ]
  },
  {
   "cell_type": "code",
   "execution_count": null,
   "id": "3c91f034-988f-4cf6-b9da-b20ecc70414f",
   "metadata": {},
   "outputs": [],
   "source": []
  },
  {
   "cell_type": "code",
   "execution_count": null,
   "id": "23e82a95-b692-4952-99f9-6d9f8955ace7",
   "metadata": {},
   "outputs": [],
   "source": []
  },
  {
   "cell_type": "code",
   "execution_count": 7,
   "id": "98250f10-8539-4e93-b484-a3c0f029429e",
   "metadata": {
    "tags": []
   },
   "outputs": [],
   "source": [
    "#QUESTION 4"
   ]
  },
  {
   "cell_type": "code",
   "execution_count": 8,
   "id": "cc0e842a-3f27-4780-a6e8-2db8d3c47573",
   "metadata": {
    "tags": []
   },
   "outputs": [],
   "source": [
    "#REVERSE THE ABOVE CREATED LIST."
   ]
  },
  {
   "cell_type": "code",
   "execution_count": 30,
   "id": "9a3f6ad8-e398-4b51-a50c-c2a3a1a2c47d",
   "metadata": {
    "tags": []
   },
   "outputs": [
    {
     "name": "stdout",
     "output_type": "stream",
     "text": [
      "Here is the reversed list: ['apple']\n"
     ]
    }
   ],
   "source": [
    "my_list = [\"apple\"]\n",
    "my_list.reverse()\n",
    "print(\"Here is the reversed list:\",my_list)"
   ]
  },
  {
   "cell_type": "code",
   "execution_count": null,
   "id": "3b9d09ca-0b66-4e02-867f-c9acfe578624",
   "metadata": {},
   "outputs": [],
   "source": []
  },
  {
   "cell_type": "code",
   "execution_count": null,
   "id": "270e60aa-a096-445f-a138-f4983a0e1f5d",
   "metadata": {},
   "outputs": [],
   "source": []
  },
  {
   "cell_type": "code",
   "execution_count": 9,
   "id": "8187ca01-d65b-4924-9097-f4a4ac5b9ba1",
   "metadata": {
    "tags": []
   },
   "outputs": [],
   "source": [
    "#QUESTION 5"
   ]
  },
  {
   "cell_type": "code",
   "execution_count": 10,
   "id": "4322cdbd-6b61-456c-8f15-041b7b7f0953",
   "metadata": {
    "tags": []
   },
   "outputs": [],
   "source": [
    "#SORT THE ABOVE CREATED LIST"
   ]
  },
  {
   "cell_type": "code",
   "execution_count": null,
   "id": "8101b309-1248-48ef-992d-3e455c662f8d",
   "metadata": {},
   "outputs": [],
   "source": [
    "my_list = [\"apple\"]\n",
    "my_list.sort()\n",
    "print(\"H"
   ]
  },
  {
   "cell_type": "code",
   "execution_count": null,
   "id": "f9cd8b16-2348-4699-8411-a84554870f68",
   "metadata": {},
   "outputs": [],
   "source": []
  },
  {
   "cell_type": "code",
   "execution_count": null,
   "id": "6dcaf128-193f-4972-98e9-427d6f1e8598",
   "metadata": {},
   "outputs": [],
   "source": []
  },
  {
   "cell_type": "code",
   "execution_count": 11,
   "id": "1e6851dc-4d84-4511-814a-4b9c1ab845c0",
   "metadata": {
    "tags": []
   },
   "outputs": [],
   "source": [
    "#QUESTION 6"
   ]
  },
  {
   "cell_type": "code",
   "execution_count": 12,
   "id": "cf8c75dc-79b0-4946-b7b3-b9989d23544b",
   "metadata": {
    "tags": []
   },
   "outputs": [],
   "source": [
    "#CREATE A LIST OF YOUR TOP THREE FAVORITE MOVIES, THEN PRINT THE SECOND MOVIE TITLE."
   ]
  },
  {
   "cell_type": "code",
   "execution_count": 25,
   "id": "c5cfbe06-3d74-4a9b-867b-0b8b7b96d665",
   "metadata": {
    "tags": []
   },
   "outputs": [
    {
     "name": "stdout",
     "output_type": "stream",
     "text": [
      "The title of the second movie is: The Dark Knight\n"
     ]
    }
   ],
   "source": [
    "favorite_movies = ['The Shawshank Redemption', 'Inception','The Dark Knight']\n",
    "print(\"The title of the second movie is:\",favorite_movies[-1])"
   ]
  },
  {
   "cell_type": "code",
   "execution_count": null,
   "id": "25665c5d-1b88-4d11-8c51-0fb239ebc6aa",
   "metadata": {},
   "outputs": [],
   "source": []
  },
  {
   "cell_type": "code",
   "execution_count": null,
   "id": "31c25045-4ab9-4fe1-a588-fc461917ce0a",
   "metadata": {},
   "outputs": [],
   "source": []
  },
  {
   "cell_type": "code",
   "execution_count": 13,
   "id": "c5666292-fde1-4bb4-b96e-bb22336f7f8b",
   "metadata": {
    "tags": []
   },
   "outputs": [],
   "source": [
    "#QUESTION 7"
   ]
  },
  {
   "cell_type": "code",
   "execution_count": 14,
   "id": "6dd7197d-d855-4a96-9572-458d7130ac7a",
   "metadata": {
    "tags": []
   },
   "outputs": [],
   "source": [
    "#CREATE A LIST OF YOUR FAVOURITE ANIMALS, THEN ADD A NEW ANIMAL TO THE LIST AND PRINT THE UPDATED LIST."
   ]
  },
  {
   "cell_type": "code",
   "execution_count": 24,
   "id": "aaeb1168-6153-4464-acbe-bc01b50121ed",
   "metadata": {
    "tags": []
   },
   "outputs": [
    {
     "name": "stdout",
     "output_type": "stream",
     "text": [
      "My favorite animals now include: ['Dogs', 'Cats', 'Dolphins', 'Elephants', 'Penguins', 'Lions']\n"
     ]
    }
   ],
   "source": [
    "favorite_animals = ['Dogs','Cats','Dolphins','Elephants','Penguins']\n",
    "new_animal = 'Lions'\n",
    "favorite_animals.append(new_animal)\n",
    "print(\"My favorite animals now include:\",favorite_animals)"
   ]
  },
  {
   "cell_type": "code",
   "execution_count": null,
   "id": "b6d801de-6142-4663-9f0f-9b3222830545",
   "metadata": {},
   "outputs": [],
   "source": []
  },
  {
   "cell_type": "code",
   "execution_count": null,
   "id": "cbcb218a-b149-4a7f-9576-ec6683b9db20",
   "metadata": {},
   "outputs": [],
   "source": []
  },
  {
   "cell_type": "code",
   "execution_count": 15,
   "id": "c12ad9ec-75fd-4516-b51d-702c3e71e9c8",
   "metadata": {
    "tags": []
   },
   "outputs": [],
   "source": [
    "#QUESTION 8"
   ]
  },
  {
   "cell_type": "code",
   "execution_count": 16,
   "id": "65630cf4-c658-4904-b879-0ca6cde0e5fd",
   "metadata": {
    "tags": []
   },
   "outputs": [],
   "source": [
    "#CREATE A LIST OF YOUR FAVORITE CITIES, THEN USE THE INDEX() METHOD TO FIND THE POSITION OF A SPECIFIC CITY ON THE LIST AND PRINT IT."
   ]
  },
  {
   "cell_type": "code",
   "execution_count": 21,
   "id": "fd6f2a75-4c31-45b2-aafa-5a5cb5cdd5b1",
   "metadata": {
    "tags": []
   },
   "outputs": [
    {
     "name": "stdout",
     "output_type": "stream",
     "text": [
      "The position of New York City in the list is: 2\n"
     ]
    }
   ],
   "source": [
    "favorite_cities = ['Paris','Tokyo','New York City','Sydney','Barcelona']\n",
    "city = 'New York City'\n",
    "position = favorite_cities.index(city)\n",
    "print(\"The position of\",city, \"in the list is:\", position)"
   ]
  },
  {
   "cell_type": "code",
   "execution_count": null,
   "id": "d6344c27-58ff-41fd-a79c-72c744c00c91",
   "metadata": {},
   "outputs": [],
   "source": []
  }
 ],
 "metadata": {
  "kernelspec": {
   "display_name": "Python 3 (ipykernel)",
   "language": "python",
   "name": "python3"
  },
  "language_info": {
   "codemirror_mode": {
    "name": "ipython",
    "version": 3
   },
   "file_extension": ".py",
   "mimetype": "text/x-python",
   "name": "python",
   "nbconvert_exporter": "python",
   "pygments_lexer": "ipython3",
   "version": "3.11.4"
  }
 },
 "nbformat": 4,
 "nbformat_minor": 5
}
